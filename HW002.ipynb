{
 "cells": [
  {
   "cell_type": "markdown",
   "metadata": {},
   "source": [
    "# Homework 2"
   ]
  },
  {
   "cell_type": "code",
   "execution_count": 1,
   "metadata": {},
   "outputs": [],
   "source": [
    "%%capture\n",
    "!pip install qiskit\n",
    "import numpy as np\n",
    "import qiskit as qk\n",
    "from sympy import *"
   ]
  },
  {
   "cell_type": "code",
   "execution_count": 12,
   "metadata": {},
   "outputs": [],
   "source": [
    "with open('./token', 'r') as token_file:\n",
    "    token = token_file.read()"
   ]
  },
  {
   "cell_type": "code",
   "execution_count": 13,
   "metadata": {},
   "outputs": [],
   "source": [
    "%%capture\n",
    "qk.IBMQ.save_account(token, overwrite = True)\n",
    "qk.IBMQ.load_account()"
   ]
  },
  {
   "cell_type": "code",
   "execution_count": 14,
   "metadata": {},
   "outputs": [],
   "source": [
    "provider = qk.IBMQ.get_provider(hub = 'ibm-q')"
   ]
  },
  {
   "cell_type": "code",
   "execution_count": 15,
   "metadata": {},
   "outputs": [],
   "source": [
    "devices = provider.backends(filters=lambda x: (3 <= x.configuration().n_qubits <= 5) and not x.configuration().simulator)"
   ]
  },
  {
   "cell_type": "code",
   "execution_count": 16,
   "metadata": {},
   "outputs": [
    {
     "data": {
      "text/plain": [
       "[<IBMQBackend('ibmqx2') from IBMQ(hub='ibm-q', group='open', project='main')>,\n",
       " <IBMQBackend('ibmq_vigo') from IBMQ(hub='ibm-q', group='open', project='main')>,\n",
       " <IBMQBackend('ibmq_ourense') from IBMQ(hub='ibm-q', group='open', project='main')>,\n",
       " <IBMQBackend('ibmq_valencia') from IBMQ(hub='ibm-q', group='open', project='main')>,\n",
       " <IBMQBackend('ibmq_athens') from IBMQ(hub='ibm-q', group='open', project='main')>,\n",
       " <IBMQBackend('ibmq_santiago') from IBMQ(hub='ibm-q', group='open', project='main')>]"
      ]
     },
     "execution_count": 16,
     "metadata": {},
     "output_type": "execute_result"
    }
   ],
   "source": [
    "devices"
   ]
  },
  {
   "cell_type": "code",
   "execution_count": 17,
   "metadata": {},
   "outputs": [],
   "source": [
    "simd_backend = qk.Aer.get_backend('qasm_simulator')"
   ]
  },
  {
   "cell_type": "markdown",
   "metadata": {},
   "source": [
    "## Problem 1"
   ]
  },
  {
   "cell_type": "markdown",
   "metadata": {},
   "source": [
    "If we look at the folloing equation:\n",
    "$$\\hat H \\vert x \\rangle = \\frac{1}{\\sqrt 2} \\left\\{ \\vert 0 \\rangle + (-1)^{x} \\vert 1 \\rangle\\right\\}$$.\n",
    "We can apply it as it is prescripted in Deutch's algorithm: \n",
    "$$\\hat{H}_x \\hat{H}_y \\hat{U}_f \\hat{H}_x \\vert 0 \\rangle_x \\otimes \\vert 0 \\rangle_y = \\hat{H}_x \\hat{H}_y \\hat{U}_f \\frac{1}{\\sqrt 2} (\\vert 0 \\rangle_x \\otimes \\vert 0 \\rangle_y + \\vert 1 \\rangle_x \\otimes \\vert 0 \\rangle_y)$$\n",
    "Oracle gives us by definition:\n",
    "$$=\\hat{H}_x \\hat{H}_y \\frac{1}{\\sqrt 2} (\\vert 0 \\rangle_x \\otimes \\vert f(0) \\rangle_y + \\vert 1 \\rangle_x \\otimes \\vert f(1) \\rangle_y) = \\hat{H}_x \\frac{1}{2} (\\vert 0 \\rangle_x \\otimes \\vert f(0) \\rangle_y + \\vert 1 \\rangle_x \\otimes \\vert f(0) \\rangle_y + \\vert 0 \\rangle_x \\otimes \\vert f(1) \\rangle_y - \\vert 1 \\rangle_x \\otimes \\vert f(1) \\rangle_y) = \\frac{1}{2 \\sqrt 2 } \\left(\\vert 0 \\rangle_x \\otimes ( \\vert 0 \\rangle_y + (-1)^{f(0)} \\vert 1 \\rangle_y) + \\vert 1 \\rangle_x \\otimes (\\vert 0 \\rangle_y +(-1)^{f(0)}  \\vert 1 \\rangle_y)+ \\vert 0 \\rangle_x \\otimes (\\vert 0 \\rangle_y + (-1)^{f(1)} \\vert 1 \\rangle_y) - \\vert 1 \\rangle_x \\otimes (\\vert 0 \\rangle_y + (-1)^{f(1)} \\vert 1 \\rangle_y\\right) = \\frac{1}{\\sqrt 2}\\vert 0 \\rangle_x \\vert 0 \\rangle_y + (-1)^{f(0)} \\left\\{\n",
    "    \\begin{aligned}\n",
    "         \\vert 0 \\rangle_x \\vert 1 \\rangle_y & & f(0) = f(1)\\\\\n",
    "         \\vert 1 \\rangle_x \\vert 1 \\rangle_y & & f(0) \\neq f(1)\n",
    "    \\end{aligned}\n",
    "    \\right.\n",
    "$$\n",
    "We can see that probability to measure useless zero state is $P(\\vert 0 \\rangle_x \\vert 0 \\rangle_y) = \\frac{1}{2}$  On the other hand we can use info about measurements of other qubits: $P(\\vert 0 \\rangle_x \\vert 1 \\rangle_y) = \\frac{1}{2},~f(0)=f(1)$ or $P(\\vert 1 \\rangle_x \\vert 1 \\rangle_y) = \\frac{1}{2},~f(0)\\neq f(1)$. It gives us enough info about structure of function. "
   ]
  },
  {
   "cell_type": "markdown",
   "metadata": {},
   "source": [
    "## Problem 2"
   ]
  },
  {
   "cell_type": "markdown",
   "metadata": {},
   "source": [
    "1)"
   ]
  },
  {
   "cell_type": "markdown",
   "metadata": {},
   "source": [
    "We need to prove the following equation:\n",
    "$$\\hat{H}^{\\otimes n} \\vert \\pmb{x} \\rangle = \\frac{1}{\\sqrt{2^n}} \\sum_{\\pmb z} (-1)^{\\pmb x \\cdot \\pmb z} \\vert \\pmb z \\rangle$$\n",
    "Using Dirac's notation,we can rewrite it in the following way:\n",
    "$$\\hat{H}^{\\otimes n} = \\frac{1}{\\sqrt{2^n}} \\sum_{\\pmb z, \\pmb x} (-1)^{\\pmb x \\cdot \\pmb z} \\vert \\pmb z \\rangle \\langle \\pmb{x} \\vert$$\n",
    "If we write one-q-bit Hadamard operator in explicit form, we wold be able to expand tensor product:\n",
    "$$\\hat{H} = \\frac{1}{\\sqrt{2}} \\begin{bmatrix} 1 & 1 \\\\ 1 & -1 \\end{bmatrix} = \\sum_{x_1,y_1} (-1)^{\\pmb{x}_1 \\pmb{z}_1} \\vert \\pmb{x}_1 \\rangle \\langle \\pmb{z}_1 \\vert$$\n",
    "$$\\hat{H}^{\\otimes n} = \\frac{1}{\\sqrt{2^n}} \\left\\{ \\sum_{x_1,y_1} (-1)^{{x}_1 {z}_1} \\vert {x}_1 \\rangle \\langle {z}_1 \\vert \\right\\} \\otimes \\left\\{ \\sum_{x_2,y_2} (-1)^{{x}_2 {z}_2} \\vert {x}_2 \\rangle \\langle {z}_2 \\vert \\right\\} \\otimes \\cdots \\otimes \\left\\{ \\sum_{x_n,y_n} (-1)^{{x}_n {z}_n} \\vert {x}_n \\rangle \\langle {z}_n \\vert \\right\\} = ... = \\frac{1}{\\sqrt{2^n}} \\sum_{x_1,\\cdots,x_n \\vert y_1,\\cdots,y_n} (-1)^{x_1 y_1} \\cdot (-1)^{x_n y_n} \\cdot \\left\\{\\vert {x}_1 \\rangle \\otimes \\cdots \\otimes \\vert {x}_n \\rangle\\right\\} \\left\\{\\langle {z}_1 \\vert \\otimes \\cdots \\otimes \\langle {z}_n \\vert\\right\\}$$\n",
    "What we are to prove."
   ]
  },
  {
   "cell_type": "markdown",
   "metadata": {},
   "source": [
    "2)"
   ]
  },
  {
   "cell_type": "markdown",
   "metadata": {},
   "source": [
    "We need to prove the following equation:\n",
    "$$\\hat{H}^{\\otimes n} \\frac{1}{\\sqrt 2} \\{\\vert \\pmb x \\rangle + \\vert \\pmb y \\rangle\\} = \\frac{1}{\\sqrt{2^{n+1}}} \\sum_{\\pmb z\\in \\pmb{s}^{\\perp}} (-1)^{\\pmb x \\cdot \\pmb z} \\vert \\pmb z \\rangle$$\n",
    "assuming $\\pmb{s}^\\perp=\\{(\\pmb x \\oplus \\pmb y) \\cdot \\pmb z = 0\\}$"
   ]
  },
  {
   "cell_type": "markdown",
   "metadata": {},
   "source": [
    "Let's decompose $\\vert \\pmb y \\rangle$ to $\\vert \\pmb y \\rangle = \\vert \\pmb{x}_0 \\oplus \\pmb a \\rangle.$ \n",
    "Using previous identity it will give us:\n",
    "$$\\hat{H}^{\\otimes n} \\frac{1}{\\sqrt 2} \\{\\vert \\pmb{x}_0 \\rangle + \\vert \\pmb{x}_0 \\oplus \\pmb a \\rangle\\} = \\frac{1}{\\sqrt{2^{n+1}}} \\sum_{\\pmb z} \\{(-1)^{\\pmb{x}_0 \\cdot \\pmb z} + (-1)^{(\\pmb{x}_0 \\oplus \\pmb{a}) \\cdot \\pmb z}\\} \\vert \\pmb z \\rangle$$\n",
    "Decomposing $(-1)^{(\\pmb{x}_0 \\oplus \\pmb{a}) \\cdot \\pmb z}\\}$ to factors we have:\n",
    "$$(-1)^{\\pmb{x}_0 \\cdot \\pmb z} + (-1)^{(\\pmb{x}_0 \\oplus \\pmb{a}) \\cdot \\pmb z} = \n",
    "    \\left\\{\n",
    "    \\begin{aligned}\n",
    "        &0 & &\\pmb a \\cdot \\pmb z = 1\\\\\n",
    "        &2 (-1)^{\\pmb {x}_0 \\cdot \\pmb z} & & \\pmb a \\cdot \\pmb z = 0\n",
    "    \\end{aligned}\n",
    "    \\right.$$"
   ]
  },
  {
   "cell_type": "markdown",
   "metadata": {},
   "source": [
    "Returning to the equation it will give us what we are to prove\n",
    "$$\\hat{H}^{\\otimes n} \\frac{1}{\\sqrt 2} \\{\\vert \\pmb{x}_0 \\rangle + \\vert \\pmb{x}_0 \\oplus \\pmb a \\rangle\\} = \\frac{1}{\\sqrt{2^{n-1}}} \\sum_{\\pmb a \\cdot \\pmb z = 0} (-1)^{\\pmb{x}_0 \\cdot \\pmb z} \\vert \\pmb z \\rangle$$"
   ]
  },
  {
   "cell_type": "markdown",
   "metadata": {},
   "source": [
    "## Problem 3"
   ]
  },
  {
   "cell_type": "markdown",
   "metadata": {},
   "source": [
    "We will start from building a quantum machine to run a Simon's algorithm. We will use a package that is not included in standart qiskit."
   ]
  },
  {
   "cell_type": "code",
   "execution_count": 70,
   "metadata": {},
   "outputs": [],
   "source": [
    "%%capture\n",
    "!pip install git+https://github.com/qiskit-community/qiskit-textbook.git#subdirectory=qiskit-textbook-src"
   ]
  },
  {
   "cell_type": "code",
   "execution_count": 71,
   "metadata": {},
   "outputs": [],
   "source": [
    "from qiskit.visualization import plot_histogram\n",
    "from qiskit_textbook.tools import simon_oracle\n",
    "from qiskit import Aer\n",
    "aer_backend = Aer.get_backend('unitary_simulator')"
   ]
  },
  {
   "cell_type": "code",
   "execution_count": 72,
   "metadata": {},
   "outputs": [
    {
     "data": {
      "image/png": "[encoded data removed]",
      "text/plain": [
       "<Figure size 504x360 with 1 Axes>"
      ]
     },
     "execution_count": 72,
     "metadata": {},
     "output_type": "execute_result"
    }
   ],
   "source": [
    "a = '111' #Preparation of the quantum machine\n",
    "n = len(a)\n",
    "simon_circuit = qk.QuantumCircuit(n * 2, n)\n",
    "simon_circuit.h(range(n))  \n",
    "simon_circuit.barrier()\n",
    "simon_circuit += simon_oracle(a)\n",
    "simon_circuit.barrier()\n",
    "simon_circuit.h(range(n))\n",
    "simon_circuit.measure(range(n), range(n))\n",
    "result = qk.execute(simon_circuit, backend = simd_backend, shots = 8192).result()\n",
    "counts = result.get_counts()\n",
    "simon_circuit.draw()\n",
    "plot_histogram(counts)"
   ]
  },
  {
   "cell_type": "markdown",
   "metadata": {},
   "source": [
    "As we can see, probabilites of getting these satates are almost equal. Let's check what we can obtain from theory."
   ]
  },
  {
   "cell_type": "code",
   "execution_count": 73,
   "metadata": {},
   "outputs": [
    {
     "name": "stdout",
     "output_type": "stream",
     "text": [
      "[[0.25-4.59242550e-17j 0.  +4.59242550e-17j 0.  +4.59242550e-17j ...\n",
      "  0.  +0.00000000e+00j 0.  +0.00000000e+00j 0.  +0.00000000e+00j]\n",
      " [0.  +4.59242550e-17j 0.25-7.65404249e-17j 0.25-7.65404249e-17j ...\n",
      "  0.  +0.00000000e+00j 0.  +0.00000000e+00j 0.  +0.00000000e+00j]\n",
      " [0.  +4.59242550e-17j 0.25-7.65404249e-17j 0.25-7.65404249e-17j ...\n",
      "  0.  +0.00000000e+00j 0.  +0.00000000e+00j 0.  +0.00000000e+00j]\n",
      " ...\n",
      " [0.  +0.00000000e+00j 0.  +0.00000000e+00j 0.  +0.00000000e+00j ...\n",
      "  0.25-1.07156595e-16j 0.25-1.07156595e-16j 0.  +4.59242550e-17j]\n",
      " [0.  +0.00000000e+00j 0.  +0.00000000e+00j 0.  +0.00000000e+00j ...\n",
      "  0.25-1.07156595e-16j 0.25-1.07156595e-16j 0.  +4.59242550e-17j]\n",
      " [0.  +0.00000000e+00j 0.  +0.00000000e+00j 0.  +0.00000000e+00j ...\n",
      "  0.  +4.59242550e-17j 0.  +4.59242550e-17j 0.25-1.37772765e-16j]]\n",
      "(64, 64)\n"
     ]
    }
   ],
   "source": [
    "prepare_circuit = qk.QuantumCircuit(n * 2, n) #building an equivalent operator for our circuit\n",
    "prepare_circuit.h(range(n))  \n",
    "prepare_circuit.barrier()\n",
    "prepare_circuit += simon_oracle(a)\n",
    "prepare_circuit.barrier()\n",
    "prepare_circuit.h(range(n))\n",
    "prep_results = qk.execute(prepare_circuit, backend = aer_backend).result()\n",
    "prepare_circuit.draw()\n",
    "simon_matrix = prep_results.get_unitary(prepare_circuit, decimals = 1)\n",
    "print(simon_matrix)\n",
    "print(simon_matrix.shape)"
   ]
  },
  {
   "cell_type": "code",
   "execution_count": 90,
   "metadata": {},
   "outputs": [
    {
     "data": {
      "text/plain": [
       "array([6.25000000e-02, 2.10903719e-33, 2.10903719e-33, 6.25000000e-02,\n",
       "       2.10903719e-33, 6.25000000e-02, 6.25000000e-02, 2.10903719e-33,\n",
       "       0.00000000e+00, 0.00000000e+00, 0.00000000e+00, 0.00000000e+00,\n",
       "       0.00000000e+00, 0.00000000e+00, 0.00000000e+00, 0.00000000e+00,\n",
       "       6.25000000e-02, 2.34337466e-34, 2.34337466e-34, 6.25000000e-02,\n",
       "       2.34337466e-34, 6.25000000e-02, 6.25000000e-02, 2.34337466e-34,\n",
       "       0.00000000e+00, 0.00000000e+00, 0.00000000e+00, 0.00000000e+00,\n",
       "       0.00000000e+00, 0.00000000e+00, 0.00000000e+00, 0.00000000e+00,\n",
       "       6.25000000e-02, 2.34337466e-34, 2.34337466e-34, 6.25000000e-02,\n",
       "       2.34337466e-34, 6.25000000e-02, 6.25000000e-02, 2.34337466e-34,\n",
       "       0.00000000e+00, 0.00000000e+00, 0.00000000e+00, 0.00000000e+00,\n",
       "       0.00000000e+00, 0.00000000e+00, 0.00000000e+00, 0.00000000e+00,\n",
       "       6.25000000e-02, 2.34337466e-34, 2.34337466e-34, 6.25000000e-02,\n",
       "       2.34337466e-34, 6.25000000e-02, 6.25000000e-02, 2.34337466e-34,\n",
       "       0.00000000e+00, 0.00000000e+00, 0.00000000e+00, 0.00000000e+00,\n",
       "       0.00000000e+00, 0.00000000e+00, 0.00000000e+00, 0.00000000e+00])"
      ]
     },
     "execution_count": 90,
     "metadata": {},
     "output_type": "execute_result"
    }
   ],
   "source": [
    "init_state = np.zeros(64) #rewriting simon matrix in form of measured probabilities\n",
    "init_state[0] = 1.\n",
    "simon_vec = simon_matrix @ init_state\n",
    "simon_res = np.real(simon_vec * np.conjugate(simon_vec))\n",
    "simon_res"
   ]
  },
  {
   "cell_type": "code",
   "execution_count": 91,
   "metadata": {},
   "outputs": [],
   "source": [
    "def to_str(num, length = 64):\n",
    "    rep = \"{0:b}\".format(num)\n",
    "    return '0' * (length - len(rep)) + rep\n",
    "def prob_num(num, res, mask = 8, length = 64):\n",
    "    assert len(res.shape) == 1\n",
    "    rep = to_str(num)\n",
    "    acc = 0.\n",
    "    for i, e in enumerate(res):\n",
    "        i_rep = to_str(i, length)\n",
    "        acc += 4 * (e if i_rep[::-1][:mask] == rep[::-1][:mask] else 0)\n",
    "    return acc"
   ]
  },
  {
   "cell_type": "code",
   "execution_count": 92,
   "metadata": {},
   "outputs": [
    {
     "data": {
      "text/plain": [
       "([0.2500000000000001,\n",
       "  8.436148777472957e-33,\n",
       "  8.436148777472957e-33,\n",
       "  0.2500000000000001,\n",
       "  8.436148777472957e-33,\n",
       "  0.2500000000000001,\n",
       "  0.2500000000000001,\n",
       "  8.436148777472957e-33],\n",
       " 1.0000000000000004)"
      ]
     },
     "execution_count": 92,
     "metadata": {},
     "output_type": "execute_result"
    }
   ],
   "source": [
    "res = [prob_num(i, simon_res) for i in range(8)]\n",
    "res, sum(res)"
   ]
  },
  {
   "cell_type": "markdown",
   "metadata": {},
   "source": [
    "Only $000, 011,101, 110$ vectors can be result of this circuit. Moreover they have equal possibility to be realized. Little numbers in output should be manually set to zeros because they are calculation mistakes which came out from rough calculations on simon matrix.  "
   ]
  },
  {
   "cell_type": "markdown",
   "metadata": {},
   "source": [
    "Now we will check all the numbers as input to see if systems are sovable. This will give us probability to find period. "
   ]
  },
  {
   "cell_type": "code",
   "execution_count": 96,
   "metadata": {},
   "outputs": [
    {
     "name": "stdout",
     "output_type": "stream",
     "text": [
      "214 42\n"
     ]
    }
   ],
   "source": [
    "vecs = [np.array([0, 0, 0], dtype = 'bool'), np.array([0, 1, 1], dtype = 'bool'), np.array([1, 0, 1], dtype = 'bool'), np.array([1, 1, 0], dtype = 'bool')]\n",
    "zeros, ones = 0, 0\n",
    "mat = np.zeros((3, 4))\n",
    "for a in vecs:\n",
    "    mat[:, 0] = a[:]\n",
    "    for b in vecs:\n",
    "        mat[:, 1] = b[:]\n",
    "        for c in vecs:\n",
    "            mat[:, 2] = c[:]\n",
    "            for d in vecs:\n",
    "                mat[:, 3] = d[:]\n",
    "                mat_0, mat_1 = mat[:,:-1], mat[:,1:]\n",
    "                det_0, det_1 = np.linalg.det(mat_0), np.linalg.det(mat_1)\n",
    "                is_suitable = bool(det_0) | bool(det_1)\n",
    "                if is_suitable:\n",
    "                    ones += 1\n",
    "                else:\n",
    "                    zeros += 1\n",
    "print(zeros, ones)"
   ]
  },
  {
   "cell_type": "markdown",
   "metadata": {},
   "source": [
    "## Problem 4 "
   ]
  },
  {
   "cell_type": "markdown",
   "metadata": {},
   "source": [
    "1)"
   ]
  },
  {
   "cell_type": "markdown",
   "metadata": {},
   "source": [
    "Actually Grover's search algorithm is based on the amplitude amplification technique. In basic words it's an iterative algorithm that increases probability to find right answer on every step. "
   ]
  },
  {
   "cell_type": "markdown",
   "metadata": {},
   "source": [
    "Actually it can be decomposed in the following way:\n",
    "1. Initial state preparation by Hadamar's operators. $\\vert s \\rangle = \\hat{H}^{\\otimes (n+1)} \\vert 0 \\rangle$. After this stage stet vector is distrubuted uniformly.\n",
    "2. Oracle's reflection. It reflects state around plane orthogonal to target vector $\\vert w \\rangle$: $ \\vert s \\rangle = \\sin \\theta \\vert w \\rangle + \\cos \\theta \\vert s' \\rangle$.\n",
    "3. After-reflection that moves state towards the target one rotatin it around $\\vert s \\rangle$. $2\\vert s \\rangle \\langle s \\vert - 1$.\n",
    "\n",
    "We can repeat it to increase probability to find answer."
   ]
  },
  {
   "cell_type": "markdown",
   "metadata": {},
   "source": [
    "### Sub-Task \\#2"
   ]
  },
  {
   "cell_type": "markdown",
   "metadata": {},
   "source": [
    "Let's create 2-QBits Grover's algorithm with tarket state $\\vert w\\rangle = \\vert 11 \\rangle$. That implies Oracle in form of CZ gate. Thus:"
   ]
  },
  {
   "cell_type": "code",
   "execution_count": 32,
   "metadata": {},
   "outputs": [
    {
     "data": {
      "text/plain": [
       "<qiskit.circuit.instructionset.InstructionSet at 0x1230f28b0>"
      ]
     },
     "execution_count": 32,
     "metadata": {},
     "output_type": "execute_result"
    }
   ],
   "source": [
    "qc = qk.QuantumCircuit(2, 2)\n",
    "#Preparation\n",
    "qc.h(range(2))\n",
    "#Oracle\n",
    "qc.cz(0, 1)\n",
    "#Grover's diffusion\n",
    "qc.h(range(2))\n",
    "qc.z(range(2))\n",
    "qc.cz(0, 1)\n",
    "qc.h(range(2))\n",
    "qc.barrier()\n",
    "qc.measure(range(2), range(2))"
   ]
  },
  {
   "cell_type": "code",
   "execution_count": 33,
   "metadata": {},
   "outputs": [
    {
     "data": {
      "text/html": [
       "<pre style=\"word-wrap: normal;white-space: pre;background: #fff0;line-height: 1.1;font-family: &quot;Courier New&quot;,Courier,monospace\">     ┌───┐   ┌───┐┌───┐   ┌───┐ ░ ┌─┐   \n",
       "q_0: ┤ H ├─■─┤ H ├┤ Z ├─■─┤ H ├─░─┤M├───\n",
       "     ├───┤ │ ├───┤├───┤ │ ├───┤ ░ └╥┘┌─┐\n",
       "q_1: ┤ H ├─■─┤ H ├┤ Z ├─■─┤ H ├─░──╫─┤M├\n",
       "     └───┘   └───┘└───┘   └───┘ ░  ║ └╥┘\n",
       "c: 2/══════════════════════════════╩══╩═\n",
       "                                   0  1 </pre>"
      ],
      "text/plain": [
       "     ┌───┐   ┌───┐┌───┐   ┌───┐ ░ ┌─┐   \n",
       "q_0: ┤ H ├─■─┤ H ├┤ Z ├─■─┤ H ├─░─┤M├───\n",
       "     ├───┤ │ ├───┤├───┤ │ ├───┤ ░ └╥┘┌─┐\n",
       "q_1: ┤ H ├─■─┤ H ├┤ Z ├─■─┤ H ├─░──╫─┤M├\n",
       "     └───┘   └───┘└───┘   └───┘ ░  ║ └╥┘\n",
       "c: 2/══════════════════════════════╩══╩═\n",
       "                                   0  1 "
      ]
     },
     "execution_count": 33,
     "metadata": {},
     "output_type": "execute_result"
    }
   ],
   "source": [
    "qc.draw()"
   ]
  },
  {
   "cell_type": "code",
   "execution_count": 34,
   "metadata": {},
   "outputs": [],
   "source": [
    "res = qk.execute(qc, shots = 65536, backend = simd_backend).result()"
   ]
  },
  {
   "cell_type": "code",
   "execution_count": 35,
   "metadata": {},
   "outputs": [],
   "source": [
    "stt = res.get_counts()"
   ]
  },
  {
   "cell_type": "code",
   "execution_count": 36,
   "metadata": {},
   "outputs": [
    {
     "data": {
      "text/plain": [
       "{'11': 65536}"
      ]
     },
     "execution_count": 36,
     "metadata": {},
     "output_type": "execute_result"
    }
   ],
   "source": [
    "stt"
   ]
  },
  {
   "cell_type": "code",
   "execution_count": 37,
   "metadata": {},
   "outputs": [
    {
     "data": {
      "image/png": "[encoded data removed]",
      "text/plain": [
       "<Figure size 504x360 with 1 Axes>"
      ]
     },
     "execution_count": 37,
     "metadata": {},
     "output_type": "execute_result"
    }
   ],
   "source": [
    "plot_histogram(stt)"
   ]
  },
  {
   "cell_type": "markdown",
   "metadata": {},
   "source": [
    "Thus Grover's algorithm is performed once and gives right answer "
   ]
  },
  {
   "cell_type": "markdown",
   "metadata": {},
   "source": [
    "### Sub-Task \\#3 "
   ]
  },
  {
   "cell_type": "code",
   "execution_count": 38,
   "metadata": {},
   "outputs": [
    {
     "data": {
      "text/plain": [
       "<qiskit.circuit.instructionset.InstructionSet at 0x123164c40>"
      ]
     },
     "execution_count": 38,
     "metadata": {},
     "output_type": "execute_result"
    }
   ],
   "source": [
    "qc = qk.QuantumCircuit(2, 2)\n",
    "qc.h(range(2))\n",
    "qc.cz(0, 1)\n",
    "qc.h(range(2))\n",
    "qc.z(range(2))\n",
    "qc.cz(0, 1)\n",
    "qc.h(range(2))\n",
    "qc.barrier()\n",
    "qc.cz(0, 1)\n",
    "qc.h(range(2))\n",
    "qc.z(range(2))\n",
    "qc.cz(0, 1)\n",
    "qc.h(range(2))\n",
    "qc.barrier()\n",
    "qc.measure(range(2), range(2))"
   ]
  },
  {
   "cell_type": "code",
   "execution_count": 39,
   "metadata": {},
   "outputs": [
    {
     "data": {
      "text/html": [
       "<pre style=\"word-wrap: normal;white-space: pre;background: #fff0;line-height: 1.1;font-family: &quot;Courier New&quot;,Courier,monospace\">     ┌───┐   ┌───┐┌───┐   ┌───┐ ░    ┌───┐┌───┐   ┌───┐ ░ ┌─┐   \n",
       "q_0: ┤ H ├─■─┤ H ├┤ Z ├─■─┤ H ├─░──■─┤ H ├┤ Z ├─■─┤ H ├─░─┤M├───\n",
       "     ├───┤ │ ├───┤├───┤ │ ├───┤ ░  │ ├───┤├───┤ │ ├───┤ ░ └╥┘┌─┐\n",
       "q_1: ┤ H ├─■─┤ H ├┤ Z ├─■─┤ H ├─░──■─┤ H ├┤ Z ├─■─┤ H ├─░──╫─┤M├\n",
       "     └───┘   └───┘└───┘   └───┘ ░    └───┘└───┘   └───┘ ░  ║ └╥┘\n",
       "c: 2/══════════════════════════════════════════════════════╩══╩═\n",
       "                                                           0  1 </pre>"
      ],
      "text/plain": [
       "     ┌───┐   ┌───┐┌───┐   ┌───┐ ░    ┌───┐┌───┐   ┌───┐ ░ ┌─┐   \n",
       "q_0: ┤ H ├─■─┤ H ├┤ Z ├─■─┤ H ├─░──■─┤ H ├┤ Z ├─■─┤ H ├─░─┤M├───\n",
       "     ├───┤ │ ├───┤├───┤ │ ├───┤ ░  │ ├───┤├───┤ │ ├───┤ ░ └╥┘┌─┐\n",
       "q_1: ┤ H ├─■─┤ H ├┤ Z ├─■─┤ H ├─░──■─┤ H ├┤ Z ├─■─┤ H ├─░──╫─┤M├\n",
       "     └───┘   └───┘└───┘   └───┘ ░    └───┘└───┘   └───┘ ░  ║ └╥┘\n",
       "c: 2/══════════════════════════════════════════════════════╩══╩═\n",
       "                                                           0  1 "
      ]
     },
     "execution_count": 39,
     "metadata": {},
     "output_type": "execute_result"
    }
   ],
   "source": [
    "qc.draw()"
   ]
  },
  {
   "cell_type": "code",
   "execution_count": 40,
   "metadata": {},
   "outputs": [],
   "source": [
    "res = qk.execute(qc, shots = 65536, backend = simd_backend).result()"
   ]
  },
  {
   "cell_type": "code",
   "execution_count": 41,
   "metadata": {},
   "outputs": [],
   "source": [
    "stt = res.get_counts()"
   ]
  },
  {
   "cell_type": "code",
   "execution_count": 42,
   "metadata": {},
   "outputs": [
    {
     "data": {
      "image/png": "[encoded data removed]",
      "text/plain": [
       "<Figure size 504x360 with 1 Axes>"
      ]
     },
     "execution_count": 42,
     "metadata": {},
     "output_type": "execute_result"
    }
   ],
   "source": [
    "plot_histogram(stt)"
   ]
  },
  {
   "cell_type": "markdown",
   "metadata": {},
   "source": [
    "It disperses probabilities across all qbits."
   ]
  },
  {
   "cell_type": "code",
   "execution_count": null,
   "metadata": {},
   "outputs": [],
   "source": []
  },
  {
   "cell_type": "code",
   "execution_count": null,
   "metadata": {},
   "outputs": [],
   "source": []
  },
  {
   "cell_type": "code",
   "execution_count": null,
   "metadata": {},
   "outputs": [],
   "source": []
  }
 ],
 "metadata": {
  "kernelspec": {
   "display_name": "Python 3",
   "language": "python",
   "name": "python3"
  },
  "language_info": {
   "codemirror_mode": {
    "name": "ipython",
    "version": 3
   },
   "file_extension": ".py",
   "mimetype": "text/x-python",
   "name": "python",
   "nbconvert_exporter": "python",
   "pygments_lexer": "ipython3",
   "version": "3.8.3"
  }
 },
 "nbformat": 4,
 "nbformat_minor": 4
}
