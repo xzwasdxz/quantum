{
 "cells": [
  {
   "cell_type": "markdown",
   "metadata": {},
   "source": [
    "# Homework №1\n",
    "## Problem 1"
   ]
  },
  {
   "cell_type": "code",
   "execution_count": 1,
   "metadata": {},
   "outputs": [],
   "source": [
    "%%capture\n",
    "!pip3 install qiskit #installing necessary packages"
   ]
  },
  {
   "cell_type": "code",
   "execution_count": 38,
   "metadata": {},
   "outputs": [],
   "source": [
    "import numpy as np\n",
    "import qiskit as qk\n",
    "from sympy.physics.quantum import TensorProduct\n",
    "from sympy import *"
   ]
  },
  {
   "cell_type": "code",
   "execution_count": 39,
   "metadata": {},
   "outputs": [],
   "source": [
    "with open('token', 'r') as token_file:\n",
    "    token = token_file.read() #importing token file"
   ]
  },
  {
   "cell_type": "code",
   "execution_count": 4,
   "metadata": {},
   "outputs": [],
   "source": [
    "%%capture\n",
    "qk.IBMQ.save_account(token, overwrite = True)\n",
    "qk.IBMQ.load_account()"
   ]
  },
  {
   "cell_type": "code",
   "execution_count": 5,
   "metadata": {},
   "outputs": [],
   "source": [
    "provider = qk.IBMQ.get_provider(hub = 'ibm-q')"
   ]
  },
  {
   "cell_type": "code",
   "execution_count": 6,
   "metadata": {},
   "outputs": [],
   "source": [
    "devices = provider.backends(filters=lambda x: (3 <= x.configuration().n_qubits <= 5) and not x.configuration().simulator)"
   ]
  },
  {
   "cell_type": "code",
   "execution_count": 7,
   "metadata": {},
   "outputs": [
    {
     "data": {
      "text/plain": [
       "[<IBMQBackend('ibmqx2') from IBMQ(hub='ibm-q', group='open', project='main')>,\n",
       " <IBMQBackend('ibmq_vigo') from IBMQ(hub='ibm-q', group='open', project='main')>,\n",
       " <IBMQBackend('ibmq_ourense') from IBMQ(hub='ibm-q', group='open', project='main')>,\n",
       " <IBMQBackend('ibmq_valencia') from IBMQ(hub='ibm-q', group='open', project='main')>,\n",
       " <IBMQBackend('ibmq_athens') from IBMQ(hub='ibm-q', group='open', project='main')>,\n",
       " <IBMQBackend('ibmq_santiago') from IBMQ(hub='ibm-q', group='open', project='main')>]"
      ]
     },
     "execution_count": 7,
     "metadata": {},
     "output_type": "execute_result"
    }
   ],
   "source": [
    "devices #List of available hardware"
   ]
  },
  {
   "cell_type": "code",
   "execution_count": 8,
   "metadata": {},
   "outputs": [
    {
     "name": "stderr",
     "output_type": "stream",
     "text": [
      "__init__.least_busy:WARNING:2020-10-15 15:36:18,995: Unable to find backend reservation information. It will not be taken into consideration. string indices must be integers\n",
      "__init__.least_busy:WARNING:2020-10-15 15:36:19,795: Unable to find backend reservation information. It will not be taken into consideration. string indices must be integers\n",
      "__init__.least_busy:WARNING:2020-10-15 15:36:20,582: Unable to find backend reservation information. It will not be taken into consideration. string indices must be integers\n",
      "__init__.least_busy:WARNING:2020-10-15 15:36:21,088: Unable to find backend reservation information. It will not be taken into consideration. string indices must be integers\n",
      "__init__.least_busy:WARNING:2020-10-15 15:36:22,211: Unable to find backend reservation information. It will not be taken into consideration. string indices must be integers\n",
      "__init__.least_busy:WARNING:2020-10-15 15:36:22,992: Unable to find backend reservation information. It will not be taken into consideration. string indices must be integers\n"
     ]
    }
   ],
   "source": [
    "%%capture\n",
    "real_backend = qk.providers.ibmq.least_busy(devices)\n",
    "print(real_backend.configuration().n_qubits) #selecting least busy machine"
   ]
  },
  {
   "cell_type": "code",
   "execution_count": 9,
   "metadata": {},
   "outputs": [],
   "source": [
    "simd_backend = qk.Aer.get_backend('qasm_simulator')"
   ]
  },
  {
   "cell_type": "markdown",
   "metadata": {},
   "source": [
    "## Problem 2"
   ]
  },
  {
   "cell_type": "markdown",
   "metadata": {},
   "source": [
    "Assuming wawefunction is following:\n",
    "$\\vert \\psi \\rangle = \\sin \\theta \\vert 0 \\rangle + \\exp{i\\varphi} \\cos \\theta \\vert 1 \\rangle$\n",
    "We want to measure $\\varphi\n",
    "\n",
    "Actually we measure projection on $Z$ - axis that corresponds $\\theta$ angle. Thus $\\varphi$ angle describes projection onto $X,~Y$ axes. To measeure $\\varphi$ we have to rotate system (or alternavely Vector) in the following way: $X,~Y,~Z \\rightarrow Z,~X,~Y$. Obviously guiding vector of axis of rotation is $(1 1 1)$ and angle to rotate is $\\alpha = 2 \\pi / 3$.\n",
    "To make rotation itself we should compute corresponding axis. We know the form of such rotations :\n",
    "$$\\hat{R}_{\\vec{n}} (\\alpha)= e^{-i \\vec{n} \\cdot \\hat{\\vec{\\sigma}} \\alpha / 2}$$\n",
    "Since all sigma's satisfy $\\hat{\\sigma}_i^2 = \\hat{I}$ it can be rewritten in the following form: \n",
    "\n",
    "$$\\hat{R}_{\\vec{n}} (\\alpha) = I \\cos{\\frac{\\alpha}{2}} - i \\vec{n} \\cdot \\hat{\\vec{\\sigma}} \\sin{\\frac{\\alpha}{2}}$$\n",
    "\n",
    "Thus the function to compute such operator is:"
   ]
  },
  {
   "cell_type": "code",
   "execution_count": 10,
   "metadata": {},
   "outputs": [],
   "source": [
    "sigmax = np.array([[0, 1 ], [1 , 0]], dtype = 'complex128') #definitions of necessary matrices\n",
    "sigmay = np.array([[0,-1j], [1j, 0]], dtype = 'complex128')\n",
    "sigmaz = np.array([[1, 0 ], [0 ,-1]], dtype = 'complex128')\n",
    "I = np.array([[1, 0 ], [0 , 1]], dtype = 'complex128')"
   ]
  },
  {
   "cell_type": "code",
   "execution_count": 15,
   "metadata": {},
   "outputs": [],
   "source": [
    "def rot_mat(in_vector, angle):\n",
    "    vector = np.array(in_vector, dtype = 'float64')\n",
    "    vector = vector / np.linalg.norm(vector) #normalising guiding vector to preserve norm of wavefunction\n",
    "    matrix = vector[0] * sigmax + vector[1] * sigmay + vector[2] * sigmaz\n",
    "    result = I * np.cos(angle / 2) - 1j * matrix * np.sin(angle / 2)\n",
    "    return result"
   ]
  },
  {
   "cell_type": "code",
   "execution_count": 16,
   "metadata": {},
   "outputs": [
    {
     "name": "stdout",
     "output_type": "stream",
     "text": [
      "[[ 0.5-0.5j -0.5-0.5j]\n",
      " [ 0.5-0.5j  0.5+0.5j]]\n"
     ]
    }
   ],
   "source": [
    "rot = rot_mat([1, 1, 1], 2 * np.pi / 3) #Now, we have the form of rotation operator, that makes phi available for measurment\n",
    "print(rot)"
   ]
  },
  {
   "cell_type": "markdown",
   "metadata": {},
   "source": [
    "In the next code block we actually measure $\\varphi$. To perform it we initialise random state in form: \n",
    "$$\\vert \\psi \\rangle = e^{i\\psi} \\sin \\theta \\vert 0 \\rangle + e^{i\\phi} \\cos \\theta \\vert 1 \\rangle$$\n",
    "But it can be rewritten:\n",
    "$$\\vert \\psi \\rangle = e^{i\\psi} (\\sin \\theta \\vert 0 \\rangle + e^{i\\varphi} \\cos \\theta \\vert 1 \\rangle)$$ \n",
    "Where $\\varphi = \\phi - \\psi$\n",
    "After some algebraic transformations we can get a formula, where probabilities and $/varphi$ are connected:\n",
    "$$\\frac{p(\\vert 0 \\rangle)}{p(\\vert 1 \\rangle)} = - \\frac{e^{i\\varphi} (\\sin{2\\theta} \\sin{\\varphi} + 1)}{e^{i\\varphi} (\\sin{2\\theta} \\sin{\\varphi} - 1)} = r$$\n",
    "Thus the output is:\n",
    "$$\\sin{\\varphi} \\sin{2 \\theta} = \\frac{r - 1}{r + 1}$$"
   ]
  },
  {
   "cell_type": "markdown",
   "metadata": {},
   "source": [
    "Now we move to actual measurment of $\\varphi$"
   ]
  },
  {
   "cell_type": "code",
   "execution_count": 17,
   "metadata": {},
   "outputs": [
    {
     "name": "stdout",
     "output_type": "stream",
     "text": [
      "0.8073073837667796 (0.48524430609782726+0j)\n",
      "{'0': 52195, '1': 13341}\n",
      "(0.8016192569928041+0j)\n"
     ]
    }
   ],
   "source": [
    "state = np.random.rand(2) + 1j * np.random.rand(2) #definition of random state\n",
    "state = state / np.linalg.norm(state)\n",
    "psi_angle = np.angle(state[0])\n",
    "state = np.exp(-1j * psi_angle) * state\n",
    "varphi = np.angle(state[1])\n",
    "theta  = np.arcsin(state[0])\n",
    "print(varphi, theta)\n",
    "q = qk.QuantumRegister(1) #Initialising one cubit state,implementing our rotation operator and measuring final state\n",
    "c = qk.ClassicalRegister(1)\n",
    "qc = qk.QuantumCircuit(q, c)\n",
    "qc.initialize(state, q)\n",
    "qc.unitary(rot, q)\n",
    "qc.measure(q, c)\n",
    "res = qk.execute(qc, backend = simd_backend, shots = 65536).result()\n",
    "r_simd = res.get_counts()\n",
    "print(r_simd)\n",
    "qc.draw()\n",
    "r = r_simd['0'] / r_simd['1'] #computing phi\n",
    "sin_phi = (r - 1) / (r + 1) / np.sin(2 * theta)\n",
    "res_phi = np.arcsin(sin_phi)\n",
    "print(res_phi)"
   ]
  },
  {
   "cell_type": "markdown",
   "metadata": {},
   "source": [
    "## Problem 3"
   ]
  },
  {
   "cell_type": "markdown",
   "metadata": {},
   "source": [
    "We have to prepare exact state from previous task using finite number of standart gates. So at first we have to define these operators."
   ]
  },
  {
   "cell_type": "code",
   "execution_count": 18,
   "metadata": {},
   "outputs": [],
   "source": [
    "H = np.array([[1, 1], [1, -1]], dtype = 'complex128') / np.sqrt(2)\n",
    "S = np.array([[1, 0], [0, 1j]], dtype = 'complex128')\n",
    "Hadamard = Matrix([[1, 1], [1, -1]]) / sqrt(2)"
   ]
  },
  {
   "cell_type": "markdown",
   "metadata": {},
   "source": [
    "We get three angles $\\alpha, \\beta, \\gamma$. Steps of Euler rotation are:\n",
    "\n",
    "1. Perform $\\hat{R}_z (\\gamma)$\n",
    "2. Perform $\\hat{R}_x (\\beta )$\n",
    "3. Perform $\\hat{R}_z (\\alpha)$\n",
    "\n",
    "To do so we need to express $\\hat{R}_x$ as combination of $\\hat{H},\\hat{S},\\hat{X}$ and $\\hat{R}_z$. We will use the following form: $ \\hat{R}_x = \\hat{H} \\hat{R}_z \\hat{H}$.But is not the only form odf such decomposition"
   ]
  },
  {
   "cell_type": "code",
   "execution_count": 19,
   "metadata": {},
   "outputs": [],
   "source": [
    "R_x = cos(theta / 2) * eye(2) - I * sin(theta / 2) * sigmax #cecking previous words\n",
    "R_z = cos(theta / 2) * eye(2) - I * sin(theta / 2) * sigmaz\n",
    "custom_Rx = Hadamard @ R_z @ Hadamard"
   ]
  },
  {
   "cell_type": "markdown",
   "metadata": {},
   "source": [
    "Now we can write our own $\\hat{U}_3$ gate:"
   ]
  },
  {
   "cell_type": "code",
   "execution_count": 20,
   "metadata": {},
   "outputs": [
    {
     "ename": "SyntaxError",
     "evalue": "cannot assign to operator (<ipython-input-20-13e938ae237e>, line 18)",
     "output_type": "error",
     "traceback": [
      "\u001b[1;36m  File \u001b[1;32m\"<ipython-input-20-13e938ae237e>\"\u001b[1;36m, line \u001b[1;32m18\u001b[0m\n\u001b[1;33m    sin_v, cos-V = float(sin_v), float(cos_v)\u001b[0m\n\u001b[1;37m    ^\u001b[0m\n\u001b[1;31mSyntaxError\u001b[0m\u001b[1;31m:\u001b[0m cannot assign to operator\n"
     ]
    }
   ],
   "source": [
    "def custom_R_x(qc, qr, alpha):\n",
    "    qc.h(qr)\n",
    "    qc.R_z(alpha, qr)\n",
    "    qc.h(qr)\n",
    "def custom_u3(qc, qr, alpha, beta, gamma):\n",
    "    qc.R_z(beta, qr)\n",
    "    custom_R_x(qc, qr, - np.pi / 2)\n",
    "    qc.R_z(alpha, qr)\n",
    "    custom_R_x(qc, qr,   np.pi / 2)\n",
    "    qc.R_x(gamma, qr)\n",
    "def rot_Matrix_ZX(vec_z, vec_x = [1, 0, 0]):\n",
    "    vec_z, vec_x = np.array(vec_z), np.array(vec_x)\n",
    "    normal_x = vec_x / np.linalg.norm(vec_x)\n",
    "    normal_z = vec_z / np.linalg.norm(vec_z)\n",
    "    normal_y = np.cross(normal_z, normal_x)\n",
    "    return np.array([normal_x, nnormal_y, normal_z])\n",
    "def _angle_From_Sin_Cos(sin_v, cos_v):\n",
    "    sin_v, cos-V = float(sin_v), float(cos_v)\n",
    "    if cos_v > 0:\n",
    "        return np.arctan(sin_v / cos_v)\n",
    "    elif cos_v < 0:\n",
    "        return - np.arctan(- sin_v / cos_v)\n",
    "    else:\n",
    "        return np.sign(sin_v) * np.pi / 2\n",
    "def rot_Matrix_Euler(matrix): #Working with matrix in form [[aa,ab,...]]\n",
    "    cb = matrix[2, 2]\n",
    "    if abs(cb) == 1:\n",
    "        sb = 0\n",
    "        cc = 1\n",
    "        sc = 0\n",
    "        sa = matrix[1, 0]\n",
    "        ca = matrix[0, 0]\n",
    "    else:\n",
    "        sb = sqrt(1 - cb**2)\n",
    "        cc = matrix[0, 2] / sb\n",
    "        sc = matrix[1, 2] / sb\n",
    "        ca = - matrix[2, 0] / sb\n",
    "        sa = matrix[2, 1] / sb\n",
    "    return np.array([_angle_From_Sin_Cos(sa, ca), _angle_From_Sin_Cos(sb, cb), _angle_From_Sin_Cos(sc, cc)])\n",
    "def vec_From_Angles(theta, phi):\n",
    "    return np.array([np.sin(theta) * np.cos(phi), np.sin(theta) * np.sin(phi), np.cos(theta)])"
   ]
  },
  {
   "cell_type": "code",
   "execution_count": 21,
   "metadata": {},
   "outputs": [
    {
     "ename": "NameError",
     "evalue": "name 'vec_From_Angles' is not defined",
     "output_type": "error",
     "traceback": [
      "\u001b[1;31m---------------------------------------------------------------------------\u001b[0m",
      "\u001b[1;31mNameError\u001b[0m                                 Traceback (most recent call last)",
      "\u001b[1;32m<ipython-input-21-c33b946f8bba>\u001b[0m in \u001b[0;36m<module>\u001b[1;34m\u001b[0m\n\u001b[1;32m----> 1\u001b[1;33m \u001b[0mvec\u001b[0m \u001b[1;33m=\u001b[0m \u001b[0mvec_From_Angles\u001b[0m\u001b[1;33m(\u001b[0m\u001b[0mnp\u001b[0m\u001b[1;33m.\u001b[0m\u001b[0mpi\u001b[0m \u001b[1;33m/\u001b[0m \u001b[1;36m3\u001b[0m\u001b[1;33m,\u001b[0m \u001b[0mnp\u001b[0m\u001b[1;33m.\u001b[0m\u001b[0mpi\u001b[0m \u001b[1;33m/\u001b[0m \u001b[1;36m3\u001b[0m\u001b[1;33m)\u001b[0m \u001b[1;31m#trying to create necessary state\u001b[0m\u001b[1;33m\u001b[0m\u001b[1;33m\u001b[0m\u001b[0m\n\u001b[0m\u001b[0;32m      2\u001b[0m \u001b[0mmat\u001b[0m \u001b[1;33m=\u001b[0m \u001b[0mrot_Matrix_ZX\u001b[0m\u001b[1;33m(\u001b[0m\u001b[0mvec\u001b[0m\u001b[1;33m)\u001b[0m\u001b[1;33m\u001b[0m\u001b[1;33m\u001b[0m\u001b[0m\n\u001b[0;32m      3\u001b[0m \u001b[0mans\u001b[0m \u001b[1;33m=\u001b[0m \u001b[0mrot_Matrix_Euler\u001b[0m\u001b[1;33m(\u001b[0m\u001b[0mmat\u001b[0m\u001b[1;33m)\u001b[0m\u001b[1;33m\u001b[0m\u001b[1;33m\u001b[0m\u001b[0m\n",
      "\u001b[1;31mNameError\u001b[0m: name 'vec_From_Angles' is not defined"
     ]
    }
   ],
   "source": [
    "vec = vec_From_Angles(np.pi / 3, np.pi / 3) #trying to create necessary state\n",
    "mat = rot_Matrix_ZX(vec)\n",
    "ans = rot_Matrix_Euler(mat)"
   ]
  },
  {
   "cell_type": "code",
   "execution_count": 22,
   "metadata": {},
   "outputs": [
    {
     "ename": "NameError",
     "evalue": "name 'ans' is not defined",
     "output_type": "error",
     "traceback": [
      "\u001b[1;31m---------------------------------------------------------------------------\u001b[0m",
      "\u001b[1;31mNameError\u001b[0m                                 Traceback (most recent call last)",
      "\u001b[1;32m<ipython-input-22-503a17c31655>\u001b[0m in \u001b[0;36m<module>\u001b[1;34m\u001b[0m\n\u001b[0;32m      2\u001b[0m \u001b[0mc\u001b[0m \u001b[1;33m=\u001b[0m \u001b[0mqk\u001b[0m\u001b[1;33m.\u001b[0m\u001b[0mClassicalRegister\u001b[0m\u001b[1;33m(\u001b[0m\u001b[1;36m1\u001b[0m\u001b[1;33m)\u001b[0m\u001b[1;33m\u001b[0m\u001b[1;33m\u001b[0m\u001b[0m\n\u001b[0;32m      3\u001b[0m \u001b[0mqc\u001b[0m \u001b[1;33m=\u001b[0m \u001b[0mqk\u001b[0m\u001b[1;33m.\u001b[0m\u001b[0mQuantumCircuit\u001b[0m\u001b[1;33m(\u001b[0m\u001b[0mq\u001b[0m\u001b[1;33m,\u001b[0m \u001b[0mc\u001b[0m\u001b[1;33m)\u001b[0m\u001b[1;33m\u001b[0m\u001b[1;33m\u001b[0m\u001b[0m\n\u001b[1;32m----> 4\u001b[1;33m \u001b[0mqc\u001b[0m\u001b[1;33m.\u001b[0m\u001b[0mrz\u001b[0m\u001b[1;33m(\u001b[0m\u001b[0mans\u001b[0m\u001b[1;33m[\u001b[0m\u001b[1;36m1\u001b[0m\u001b[1;33m]\u001b[0m\u001b[1;33m,\u001b[0m \u001b[0mq\u001b[0m\u001b[1;33m[\u001b[0m\u001b[1;36m0\u001b[0m\u001b[1;33m]\u001b[0m\u001b[1;33m)\u001b[0m\u001b[1;33m\u001b[0m\u001b[1;33m\u001b[0m\u001b[0m\n\u001b[0m\u001b[0;32m      5\u001b[0m \u001b[0mqc\u001b[0m\u001b[1;33m.\u001b[0m\u001b[0mh\u001b[0m\u001b[1;33m(\u001b[0m\u001b[0mq\u001b[0m\u001b[1;33m[\u001b[0m\u001b[1;36m0\u001b[0m\u001b[1;33m]\u001b[0m\u001b[1;33m)\u001b[0m\u001b[1;33m\u001b[0m\u001b[1;33m\u001b[0m\u001b[0m\n\u001b[0;32m      6\u001b[0m \u001b[0mqc\u001b[0m\u001b[1;33m.\u001b[0m\u001b[0mrz\u001b[0m\u001b[1;33m(\u001b[0m\u001b[1;33m-\u001b[0m \u001b[0mnp\u001b[0m\u001b[1;33m.\u001b[0m\u001b[0mpi\u001b[0m \u001b[1;33m/\u001b[0m \u001b[1;36m2\u001b[0m\u001b[1;33m,\u001b[0m \u001b[0mq\u001b[0m\u001b[1;33m[\u001b[0m\u001b[1;36m0\u001b[0m\u001b[1;33m]\u001b[0m\u001b[1;33m)\u001b[0m\u001b[1;33m\u001b[0m\u001b[1;33m\u001b[0m\u001b[0m\n",
      "\u001b[1;31mNameError\u001b[0m: name 'ans' is not defined"
     ]
    }
   ],
   "source": [
    "q = qk.QuantumRegister(1) #Returning to quantum machine\n",
    "c = qk.ClassicalRegister(1)\n",
    "qc = qk.QuantumCircuit(q, c)\n",
    "qc.rz(ans[1], q[0])\n",
    "qc.h(q[0])\n",
    "qc.rz(- np.pi / 2, q[0])\n",
    "qc.h(q[0])\n",
    "qc.rz(ans[0],  q[0])\n",
    "qc.h(q[0])\n",
    "qc.rz(np.pi / 2, q[0])\n",
    "qc.h(q[0])\n",
    "qc.rz(ans[2], q[0])\n",
    "qc.measure(q, c)\n",
    "res = qk.execute(qc, backend = simd_backend, shots = 65536).result()\n",
    "r_simd = res.get_counts()\n",
    "print(r_simd)\n",
    "qc.draw()\n",
    "res_theta = np.arctan(np.sqrt(r_simd['0'] / r_simd['1']))\n",
    "print(res_theta, res_theta - np.pi / 3)"
   ]
  },
  {
   "cell_type": "code",
   "execution_count": 23,
   "metadata": {},
   "outputs": [
    {
     "ename": "NameError",
     "evalue": "name 'ans' is not defined",
     "output_type": "error",
     "traceback": [
      "\u001b[1;31m---------------------------------------------------------------------------\u001b[0m",
      "\u001b[1;31mNameError\u001b[0m                                 Traceback (most recent call last)",
      "\u001b[1;32m<ipython-input-23-c5de6d50a32b>\u001b[0m in \u001b[0;36m<module>\u001b[1;34m\u001b[0m\n\u001b[0;32m      2\u001b[0m \u001b[0mc\u001b[0m \u001b[1;33m=\u001b[0m \u001b[0mqk\u001b[0m\u001b[1;33m.\u001b[0m\u001b[0mClassicalRegister\u001b[0m\u001b[1;33m(\u001b[0m\u001b[1;36m1\u001b[0m\u001b[1;33m)\u001b[0m\u001b[1;33m\u001b[0m\u001b[1;33m\u001b[0m\u001b[0m\n\u001b[0;32m      3\u001b[0m \u001b[0mqc\u001b[0m \u001b[1;33m=\u001b[0m \u001b[0mqk\u001b[0m\u001b[1;33m.\u001b[0m\u001b[0mQuantumCircuit\u001b[0m\u001b[1;33m(\u001b[0m\u001b[0mq\u001b[0m\u001b[1;33m,\u001b[0m \u001b[0mc\u001b[0m\u001b[1;33m)\u001b[0m\u001b[1;33m\u001b[0m\u001b[1;33m\u001b[0m\u001b[0m\n\u001b[1;32m----> 4\u001b[1;33m \u001b[0mqc\u001b[0m\u001b[1;33m.\u001b[0m\u001b[0mrz\u001b[0m\u001b[1;33m(\u001b[0m\u001b[0mans\u001b[0m\u001b[1;33m[\u001b[0m\u001b[1;36m1\u001b[0m\u001b[1;33m]\u001b[0m\u001b[1;33m,\u001b[0m     \u001b[0mq\u001b[0m\u001b[1;33m[\u001b[0m\u001b[1;36m0\u001b[0m\u001b[1;33m]\u001b[0m\u001b[1;33m)\u001b[0m\u001b[1;33m\u001b[0m\u001b[1;33m\u001b[0m\u001b[0m\n\u001b[0m\u001b[0;32m      5\u001b[0m \u001b[0mqc\u001b[0m\u001b[1;33m.\u001b[0m\u001b[0mh\u001b[0m\u001b[1;33m(\u001b[0m\u001b[0mq\u001b[0m\u001b[1;33m[\u001b[0m\u001b[1;36m0\u001b[0m\u001b[1;33m]\u001b[0m\u001b[1;33m)\u001b[0m\u001b[1;33m\u001b[0m\u001b[1;33m\u001b[0m\u001b[0m\n\u001b[0;32m      6\u001b[0m \u001b[0mqc\u001b[0m\u001b[1;33m.\u001b[0m\u001b[0mrz\u001b[0m\u001b[1;33m(\u001b[0m\u001b[1;33m-\u001b[0m \u001b[0mnp\u001b[0m\u001b[1;33m.\u001b[0m\u001b[0mpi\u001b[0m \u001b[1;33m/\u001b[0m \u001b[1;36m2\u001b[0m\u001b[1;33m,\u001b[0m \u001b[0mq\u001b[0m\u001b[1;33m[\u001b[0m\u001b[1;36m0\u001b[0m\u001b[1;33m]\u001b[0m\u001b[1;33m)\u001b[0m\u001b[1;33m\u001b[0m\u001b[1;33m\u001b[0m\u001b[0m\n",
      "\u001b[1;31mNameError\u001b[0m: name 'ans' is not defined"
     ]
    }
   ],
   "source": [
    "q = qk.QuantumRegister(1)   #comparison with theoretical result\n",
    "c = qk.ClassicalRegister(1)\n",
    "qc = qk.QuantumCircuit(q, c)\n",
    "qc.rz(ans[1],     q[0])\n",
    "qc.h(q[0])\n",
    "qc.rz(- np.pi / 2, q[0])\n",
    "qc.h(q[0])\n",
    "qc.rz(ans[0],  q[0])\n",
    "qc.h(q[0])\n",
    "qc.rz(np.pi / 2, q[0])\n",
    "qc.h(q[0])\n",
    "qc.rz(ans[2],  q[0])\n",
    "rot = rot_mat([1, 1, 1], 2 * np.pi / 3)\n",
    "qc.unitary(rot, q)\n",
    "qc.measure(q, c)\n",
    "res = qk.execute(qc, backend = simd_backend, shots = 65536).result()\n",
    "r_simd_v0 = res.get_counts()\n",
    "rat = r_simd_v0['0'] / r_simd_v0['1']\n",
    "comp_rat = - (np.sin(2 * res_theta) * sin(np.pi / 3) + 1.) / (np.sin(2 * res_theta) * sin(np.pi / 3) - 1.)\n",
    "ratio_of_ratios = rat / comp_rat\n",
    "print(ratio_of_ratios)"
   ]
  },
  {
   "cell_type": "markdown",
   "metadata": {},
   "source": [
    "## Problem 4"
   ]
  },
  {
   "cell_type": "code",
   "execution_count": 24,
   "metadata": {},
   "outputs": [],
   "source": [
    "Hadamard = Matrix([[1, 1], [1, -1]])/sqrt(2)\n",
    "X = Matrix([[0, 1], [1, 0]])\n",
    "Z = Matrix([[1, 0], [0, -1]])\n"
   ]
  },
  {
   "cell_type": "markdown",
   "metadata": {},
   "source": [
    "1)"
   ]
  },
  {
   "cell_type": "code",
   "execution_count": 25,
   "metadata": {},
   "outputs": [
    {
     "data": {
      "text/latex": [
       "$\\displaystyle \\left[\\begin{matrix}0 & 0\\\\0 & 0\\end{matrix}\\right]$"
      ],
      "text/plain": [
       "Matrix([\n",
       "[0, 0],\n",
       "[0, 0]])"
      ]
     },
     "execution_count": 25,
     "metadata": {},
     "output_type": "execute_result"
    }
   ],
   "source": [
    "Hadamard @ X @ Hadamard - Z"
   ]
  },
  {
   "cell_type": "markdown",
   "metadata": {},
   "source": [
    "2)"
   ]
  },
  {
   "cell_type": "markdown",
   "metadata": {},
   "source": [
    "cZ matrix by definition is:\n",
    "\n",
    "$$  \\begin{bmatrix}\n",
    "    1 & 0 & 0 & 0\\\\\n",
    "    0 & 1 & 0 & 0\\\\\n",
    "    0 & 0 & 1 & 0\\\\\n",
    "    0 & 0 & 0 &-1\n",
    "    \\end{bmatrix}    $$\n",
    "    \n",
    "So, as we can see it is symmetric symmetric with respect to permutations of q-bits.\n"
   ]
  },
  {
   "cell_type": "markdown",
   "metadata": {},
   "source": [
    "3)"
   ]
  },
  {
   "cell_type": "markdown",
   "metadata": {},
   "source": [
    "The definition of Hadamard operator for $m$ independent q-bits is:\n",
    "$$ \\hat H_m = I_m * \\hat H_1 $$"
   ]
  },
  {
   "cell_type": "code",
   "execution_count": 26,
   "metadata": {},
   "outputs": [],
   "source": [
    "H_2_1 = TensorProduct(eye(2), Hadamard) #For the first q-bit\n",
    "H_2_2 = TensorProduct(Hadamard,eye(2)) #For the second one"
   ]
  },
  {
   "cell_type": "code",
   "execution_count": 27,
   "metadata": {},
   "outputs": [
    {
     "data": {
      "text/latex": [
       "$\\displaystyle \\left[\\begin{matrix}\\frac{\\sqrt{2}}{2} & \\frac{\\sqrt{2}}{2} & 0 & 0\\\\\\frac{\\sqrt{2}}{2} & - \\frac{\\sqrt{2}}{2} & 0 & 0\\\\0 & 0 & \\frac{\\sqrt{2}}{2} & \\frac{\\sqrt{2}}{2}\\\\0 & 0 & \\frac{\\sqrt{2}}{2} & - \\frac{\\sqrt{2}}{2}\\end{matrix}\\right]$"
      ],
      "text/plain": [
       "Matrix([\n",
       "[sqrt(2)/2,  sqrt(2)/2,         0,          0],\n",
       "[sqrt(2)/2, -sqrt(2)/2,         0,          0],\n",
       "[        0,          0, sqrt(2)/2,  sqrt(2)/2],\n",
       "[        0,          0, sqrt(2)/2, -sqrt(2)/2]])"
      ]
     },
     "execution_count": 27,
     "metadata": {},
     "output_type": "execute_result"
    }
   ],
   "source": [
    "H_2_1"
   ]
  },
  {
   "cell_type": "code",
   "execution_count": 28,
   "metadata": {},
   "outputs": [
    {
     "data": {
      "text/latex": [
       "$\\displaystyle \\left[\\begin{matrix}\\frac{\\sqrt{2}}{2} & 0 & \\frac{\\sqrt{2}}{2} & 0\\\\0 & \\frac{\\sqrt{2}}{2} & 0 & \\frac{\\sqrt{2}}{2}\\\\\\frac{\\sqrt{2}}{2} & 0 & - \\frac{\\sqrt{2}}{2} & 0\\\\0 & \\frac{\\sqrt{2}}{2} & 0 & - \\frac{\\sqrt{2}}{2}\\end{matrix}\\right]$"
      ],
      "text/plain": [
       "Matrix([\n",
       "[sqrt(2)/2,         0,  sqrt(2)/2,          0],\n",
       "[        0, sqrt(2)/2,          0,  sqrt(2)/2],\n",
       "[sqrt(2)/2,         0, -sqrt(2)/2,          0],\n",
       "[        0, sqrt(2)/2,          0, -sqrt(2)/2]])"
      ]
     },
     "execution_count": 28,
     "metadata": {},
     "output_type": "execute_result"
    }
   ],
   "source": [
    "H_2_2"
   ]
  },
  {
   "cell_type": "markdown",
   "metadata": {},
   "source": [
    "The definition of cX for th second q-bit matrix is:\n",
    "\n",
    "$$  \\begin{bmatrix}\n",
    "    1 & 0 & 0 & 0\\\\\n",
    "    0 & 0 & 0 & 1\\\\\n",
    "    0 & 0 & 1 & 0\\\\\n",
    "    0 & 1 & 0 & 0\n",
    "    \\end{bmatrix}    $$"
   ]
  },
  {
   "cell_type": "code",
   "execution_count": 29,
   "metadata": {},
   "outputs": [],
   "source": [
    "cX_2 = Matrix([[1, 0, 0, 0], [0, 0, 0, 1], [0, 0, 1, 0], [0, 1, 0, 0]])"
   ]
  },
  {
   "cell_type": "code",
   "execution_count": 30,
   "metadata": {},
   "outputs": [],
   "source": [
    "rc = H_2_1 @ H_2_2 @ cX_2 @ H_2_1 @ H_2_2 #The circuit itself"
   ]
  },
  {
   "cell_type": "code",
   "execution_count": 31,
   "metadata": {},
   "outputs": [
    {
     "data": {
      "text/latex": [
       "$\\displaystyle \\left[\\begin{matrix}1 & 0 & 0 & 0\\\\0 & 1 & 0 & 0\\\\0 & 0 & 0 & 1\\\\0 & 0 & 1 & 0\\end{matrix}\\right]$"
      ],
      "text/plain": [
       "Matrix([\n",
       "[1, 0, 0, 0],\n",
       "[0, 1, 0, 0],\n",
       "[0, 0, 0, 1],\n",
       "[0, 0, 1, 0]])"
      ]
     },
     "execution_count": 31,
     "metadata": {},
     "output_type": "execute_result"
    }
   ],
   "source": [
    "rc "
   ]
  },
  {
   "cell_type": "code",
   "execution_count": 32,
   "metadata": {},
   "outputs": [],
   "source": [
    "cnot = Matrix([[1, 0, 0, 0], [0, 1, 0, 0], [0, 0, 0, 1], [0, 0, 1, 0]]) #definition of cX for the first q-bit"
   ]
  },
  {
   "cell_type": "code",
   "execution_count": 33,
   "metadata": {},
   "outputs": [
    {
     "data": {
      "text/latex": [
       "$\\displaystyle \\left[\\begin{matrix}0 & 0 & 0 & 0\\\\0 & 0 & 0 & 0\\\\0 & 0 & 0 & 0\\\\0 & 0 & 0 & 0\\end{matrix}\\right]$"
      ],
      "text/plain": [
       "Matrix([\n",
       "[0, 0, 0, 0],\n",
       "[0, 0, 0, 0],\n",
       "[0, 0, 0, 0],\n",
       "[0, 0, 0, 0]])"
      ]
     },
     "execution_count": 33,
     "metadata": {},
     "output_type": "execute_result"
    }
   ],
   "source": [
    "rc - cnot"
   ]
  },
  {
   "cell_type": "markdown",
   "metadata": {},
   "source": [
    "4)"
   ]
  },
  {
   "cell_type": "markdown",
   "metadata": {},
   "source": [
    "We need to find controlled $e^{i\\alpha}$ gate. It should work as: multiply both components \n",
    "of the second cubit on $e^{i\\alpha}$ if the first one is in $\\vert 1 \\langle$ state. Thus the operator's matrix is the following:\n",
    "\n",
    "$$  \\begin{bmatrix}\n",
    "    1 & 0 & 0 & 0\\\\\n",
    "    0 & e^{i\\alpha} & 0 & 0\\\\\n",
    "    0 & 0 & 1 & 0\\\\\n",
    "    0 & 0 & 0 &e^{i\\alpha}\n",
    "    \\end{bmatrix}    $$\n",
    "    \n",
    "Obviously it's just another representation of the following tensor product:\n",
    "\n",
    "$\\hat{CExp} = I^{(1)}_{2} \\otimes \\hat{U}_1 (\\alpha)$ and that corresponds just $U_1$ gate on the first qubit (see Sub-Task 3)."
   ]
  },
  {
   "cell_type": "markdown",
   "metadata": {},
   "source": [
    "## Problem 5"
   ]
  },
  {
   "cell_type": "markdown",
   "metadata": {},
   "source": [
    "If state is represented as $a \\vert 0 \\rangle \\otimes \\vert 0 \\rangle + b \\vert 1 \\rangle \\otimes \\vert 0 \\rangle + \n",
    "c \\vert 0 \\rangle \\otimes \\vert 1 \\rangle + \\vert 1 \\rangle \\otimes \\vert 1 \\rangle$ we can consider that in case of unentanglement it can be written $(\\alpha \\vert 0 \\rangle + \\beta \\vert 1 \\rangle) \\otimes (\\gamma \\vert 0 \\rangle + \\delta \\vert 1 \\rangle)$. Thus we can write the following system:\n",
    "\n",
    "$$\n",
    "\\begin{aligned} \n",
    "    \\alpha \\gamma = a & &\\alpha \\delta = b \\\\\n",
    "    \\beta \\gamma  = c & &\\beta \\delta  = d \n",
    "\\end{aligned}\n",
    "$$\n",
    "\n",
    "The criteria of solvable system in this case can be written as: $a d - b c = 0$. In this case this system is unentangled."
   ]
  },
  {
   "cell_type": "markdown",
   "metadata": {},
   "source": [
    "1)"
   ]
  },
  {
   "cell_type": "markdown",
   "metadata": {},
   "source": [
    "Wavefunction is $\\frac{2}{3} \\vert 0 0 \\rangle + \\frac{1}{3} \\vert 01 \\rangle -  \\frac{2}{3} \\vert 11 \\rangle$."
   ]
  },
  {
   "cell_type": "code",
   "execution_count": 34,
   "metadata": {},
   "outputs": [
    {
     "name": "stdout",
     "output_type": "stream",
     "text": [
      "-0.444444444444444\n"
     ]
    }
   ],
   "source": [
    "matrix = Matrix([[2 / 3, 0], [1 / 3, - 2 / 3]])\n",
    "det = matrix.det()\n",
    "print(det)"
   ]
  },
  {
   "cell_type": "markdown",
   "metadata": {},
   "source": [
    "This state is entangled, as we can see from system of equations, $\\alpha$ or $\\delta$ have to be zero, but coefficients $a$ and $b$ are net zeros, so this system is inconsistent"
   ]
  },
  {
   "cell_type": "markdown",
   "metadata": {},
   "source": [
    "2)"
   ]
  },
  {
   "cell_type": "markdown",
   "metadata": {},
   "source": [
    "Wavefunction is $\\frac{1}{2} \\vert 0 0 \\rangle + \\frac{i}{2} \\vert 10 \\rangle - \n",
    "\\frac{i}{2} \\vert 01 \\rangle + \\frac{1}{2} \\vert 11 \\rangle$."
   ]
  },
  {
   "cell_type": "code",
   "execution_count": 42,
   "metadata": {},
   "outputs": [
    {
     "name": "stdout",
     "output_type": "stream",
     "text": [
      "0\n"
     ]
    }
   ],
   "source": [
    "matrix = Matrix([[1, 1j], [-1j, 1]]) / 2\n",
    "det = matrix.det()\n",
    "print(det)"
   ]
  },
  {
   "cell_type": "markdown",
   "metadata": {},
   "source": [
    "This state is unentangled. obviously the solution for this system is $(-\\frac{\\sqrt(2)}{2}, \\frac{i \\sqrt(2)}{2}, -\\frac{ \\sqrt(2)}{2}, -\\frac{i \\sqrt(2)}{2})$"
   ]
  },
  {
   "cell_type": "markdown",
   "metadata": {},
   "source": [
    "3)"
   ]
  },
  {
   "cell_type": "markdown",
   "metadata": {},
   "source": [
    "Wavefunction is $\\frac{1}{2} \\vert 0 0 \\rangle + \\frac{1}{2} \\vert 10 \\rangle - \n",
    "\\frac{1}{2} \\vert 01 \\rangle + \\frac{1}{2} \\vert 11 \\rangle$."
   ]
  },
  {
   "cell_type": "code",
   "execution_count": 44,
   "metadata": {},
   "outputs": [
    {
     "name": "stdout",
     "output_type": "stream",
     "text": [
      "0.125000000000000\n"
     ]
    }
   ],
   "source": [
    "matrix = Matrix([[1/2, 1/2], [-1/2, 1/2]]) / 2\n",
    "det = matrix.det()\n",
    "print(det)"
   ]
  },
  {
   "cell_type": "markdown",
   "metadata": {},
   "source": [
    "This state is entangled. Here, we can also see inconsistent system."
   ]
  }
 ],
 "metadata": {
  "kernelspec": {
   "display_name": "Python 3",
   "language": "python",
   "name": "python3"
  },
  "language_info": {
   "codemirror_mode": {
    "name": "ipython",
    "version": 3
   },
   "file_extension": ".py",
   "mimetype": "text/x-python",
   "name": "python",
   "nbconvert_exporter": "python",
   "pygments_lexer": "ipython3",
   "version": "3.8.3"
  }
 },
 "nbformat": 4,
 "nbformat_minor": 4
}
